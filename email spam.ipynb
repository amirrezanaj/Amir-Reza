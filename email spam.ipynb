{
 "cells": [
  {
   "cell_type": "markdown",
   "metadata": {},
   "source": [
    "Import libraries"
   ]
  },
  {
   "cell_type": "code",
   "execution_count": 57,
   "metadata": {},
   "outputs": [],
   "source": [
    "import numpy as np \n",
    "import pandas as pd \n",
    "import nltk\n",
    "from nltk.corpus import stopwords\n",
    "import string"
   ]
  },
  {
   "cell_type": "markdown",
   "metadata": {},
   "source": [
    "Load the data"
   ]
  },
  {
   "cell_type": "code",
   "execution_count": 71,
   "metadata": {},
   "outputs": [
    {
     "data": {
      "text/plain": [
       "(2386, 1)"
      ]
     },
     "execution_count": 71,
     "metadata": {},
     "output_type": "execute_result"
    }
   ],
   "source": [
    "datas = pd.read_csv('train.csv')\n",
    "test = pd.read_csv('test.csv')\n",
    "test.shape"
   ]
  },
  {
   "cell_type": "markdown",
   "metadata": {},
   "source": [
    "مرتب سازی دیتا"
   ]
  },
  {
   "cell_type": "code",
   "execution_count": 59,
   "metadata": {},
   "outputs": [
    {
     "name": "stderr",
     "output_type": "stream",
     "text": [
      "[nltk_data] Downloading package stopwords to /home/afla/nltk_data...\n",
      "[nltk_data]   Package stopwords is already up-to-date!\n"
     ]
    },
    {
     "data": {
      "text/plain": [
       "True"
      ]
     },
     "execution_count": 59,
     "metadata": {},
     "output_type": "execute_result"
    }
   ],
   "source": [
    "datas.drop_duplicates (inplace = True)\n",
    "test.drop_duplicates (inplace = True)\n",
    "datas.columns\n",
    "datas.isnull().sum()\n",
    "\n",
    "#Need to download stopwords\n",
    "nltk.download('stopwords')"
   ]
  },
  {
   "cell_type": "code",
   "execution_count": 60,
   "metadata": {},
   "outputs": [],
   "source": [
    "def process_text(text):\n",
    "    \n",
    "    #1 Remove Punctuationa\n",
    "    nopunc = [char for char in text if char not in string.punctuation]\n",
    "    nopunc = ''.join(nopunc)\n",
    "    \n",
    "    #2 Remove Stop Words\n",
    "    clean_words = [word for word in nopunc.split() if word.lower() not in stopwords.words('english')]\n",
    "    \n",
    "    #3 Return a list of clean words\n",
    "    return clean_words"
   ]
  },
  {
   "cell_type": "code",
   "execution_count": 72,
   "metadata": {},
   "outputs": [
    {
     "data": {
      "text/plain": [
       "(2386, 1)"
      ]
     },
     "execution_count": 72,
     "metadata": {},
     "output_type": "execute_result"
    }
   ],
   "source": [
    "datas['Text'].head().apply(process_text)\n",
    "test['Text'].head().apply(process_text)\n",
    "test.shape"
   ]
  },
  {
   "cell_type": "code",
   "execution_count": 62,
   "metadata": {},
   "outputs": [
    {
     "data": {
      "text/plain": [
       "(8307, 98960)"
      ]
     },
     "execution_count": 62,
     "metadata": {},
     "output_type": "execute_result"
    }
   ],
   "source": [
    "from sklearn.feature_extraction.text import CountVectorizer\n",
    "v = CountVectorizer(decode_error='replace', encoding='utf-8')\n",
    "v2 = CountVectorizer(decode_error='replace', encoding='utf-8')\n",
    "\n",
    "messages_bow = v.fit_transform(datas['Text'].values.astype('U'))\n",
    "messages_bow2 = v2.fit_transform(test['Text'].values.astype('U'))\n",
    "#print(messages_bow2.shape)\n",
    "#print(messages_bow)\n",
    "#from sklearn.feature_extraction.text import CountVectorizer\n",
    "#messages_bow = CountVectorizer(analyzer=process_text).fit_transform(df['Text'])\n",
    "messages_bow.shape"
   ]
  },
  {
   "cell_type": "markdown",
   "metadata": {},
   "source": [
    "TRAiNING..."
   ]
  },
  {
   "cell_type": "code",
   "execution_count": 63,
   "metadata": {},
   "outputs": [],
   "source": [
    "#Split data into 80% training & 20% testing data sets\n",
    "from sklearn.model_selection import train_test_split\n",
    "X_train, X_test, y_train, y_test = train_test_split(datas['Text'], datas['Class'], test_size = 0.20, random_state = 0)"
   ]
  },
  {
   "cell_type": "code",
   "execution_count": 73,
   "metadata": {},
   "outputs": [
    {
     "data": {
      "text/plain": [
       "(2386, 80941)"
      ]
     },
     "execution_count": 73,
     "metadata": {},
     "output_type": "execute_result"
    }
   ],
   "source": [
    "from sklearn.feature_extraction.text import TfidfVectorizer\n",
    "vectorizer = TfidfVectorizer(decode_error='replace', encoding='utf-8')\n",
    "X_train1 = vectorizer.fit_transform(X_train)\n",
    "X_test1 = vectorizer.transform(X_test.values.astype('U'))\n",
    "\n",
    "test1 = vectorizer.transform(test['Text'])\n",
    "\n",
    "test1.shape"
   ]
  },
  {
   "cell_type": "code",
   "execution_count": 65,
   "metadata": {},
   "outputs": [
    {
     "name": "stdout",
     "output_type": "stream",
     "text": [
      "[1 0 1 ... 1 1 1] [1 0 1 ... 1 1 1]\n"
     ]
    }
   ],
   "source": [
    "from sklearn.naive_bayes import MultinomialNB\n",
    "classifier = MultinomialNB()\n",
    "classifier.fit(X_train1, y_train)\n",
    "\n",
    "pred = classifier.predict(X_test1)\n",
    "print(y_train.values,classifier.predict(X_train1))"
   ]
  },
  {
   "cell_type": "code",
   "execution_count": 66,
   "metadata": {},
   "outputs": [
    {
     "name": "stdout",
     "output_type": "stream",
     "text": [
      "              precision    recall  f1-score   support\n",
      "\n",
      "           0       1.00      0.98      0.99      3744\n",
      "           1       0.97      1.00      0.98      2901\n",
      "\n",
      "    accuracy                           0.98      6645\n",
      "   macro avg       0.98      0.99      0.98      6645\n",
      "weighted avg       0.99      0.98      0.98      6645\n",
      "\n",
      "*** Confusion Matrix: \n",
      " [[3651   93]\n",
      " [   9 2892]]\n",
      "\n",
      "Accuracy:  0.9846501128668171\n"
     ]
    }
   ],
   "source": [
    "#Evaluate the model on the training data set\n",
    "from sklearn.metrics import classification_report,confusion_matrix, accuracy_score\n",
    "pred = classifier.predict(X_train1)\n",
    "print(classification_report(y_train ,pred))\n",
    "print('***','Confusion Matrix: \\n',confusion_matrix(y_train,pred))\n",
    "print()\n",
    "print('Accuracy: ', accuracy_score(y_train,pred))"
   ]
  },
  {
   "cell_type": "code",
   "execution_count": 67,
   "metadata": {},
   "outputs": [
    {
     "name": "stdout",
     "output_type": "stream",
     "text": [
      "Predicted value:  [1 1 0 ... 0 1 0]\n",
      "Actual value:  [1 0 0 ... 0 1 0]\n"
     ]
    }
   ],
   "source": [
    "#Print the predictions\n",
    "print('Predicted value: ',classifier.predict(X_test1))\n",
    "#Print Actual Label\n",
    "print('Actual value: ',y_test.values)"
   ]
  },
  {
   "cell_type": "code",
   "execution_count": 68,
   "metadata": {
    "scrolled": true
   },
   "outputs": [
    {
     "name": "stdout",
     "output_type": "stream",
     "text": [
      "[1 1 0 ... 0 1 0]\n",
      "              precision    recall  f1-score   support\n",
      "\n",
      "           0       0.99      0.93      0.96      1000\n",
      "           1       0.90      0.99      0.94       662\n",
      "\n",
      "    accuracy                           0.95      1662\n",
      "   macro avg       0.94      0.96      0.95      1662\n",
      "weighted avg       0.95      0.95      0.95      1662\n",
      "\n",
      "Confusion Matrix: \n",
      " [[927  73]\n",
      " [  9 653]]\n",
      "\n",
      "Accuracy:  0.950661853188929\n",
      "-----------------------------------------------------------------\n"
     ]
    }
   ],
   "source": [
    "#Evaluate the model on the test data set\n",
    "from sklearn.metrics import classification_report,confusion_matrix, accuracy_score\n",
    "pred = classifier.predict(X_test1)\n",
    "print(pred)\n",
    "print(classification_report(y_test ,pred ))\n",
    "print('Confusion Matrix: \\n', confusion_matrix(y_test,pred))\n",
    "print()\n",
    "print('Accuracy: ', accuracy_score(y_test,pred))\n",
    "print('-'*65)\n",
    "m = classifier.predict(test1)\n",
    "n = classifier.predict_proba(test1)\n",
    "#print(classifier.predict_proba(test1))\n"
   ]
  },
  {
   "cell_type": "code",
   "execution_count": 76,
   "metadata": {},
   "outputs": [
    {
     "name": "stdout",
     "output_type": "stream",
     "text": [
      "\n",
      "['Class' '0.9999924567261479' '0.9999987839287461' ...\n",
      " '0.9999921298486684' '0.04416820256647981' '0.05925164158110207'] ***\n",
      "(2386, 2) (2387,)\n"
     ]
    }
   ],
   "source": [
    "n = classifier.predict_proba(test1)\n",
    "#print(n)\n",
    "#print('per: ',n[:,1])\n",
    "import csv\n",
    "#outfile = open('/home/afla/Documents/python/poroje1- khordad/مزاحمین داده‌ای/submission.csv','w')\n",
    "#out = csv.writer(outfile)\n",
    "#out.writerows(map(lambda x: [x], n[:,1]))\n",
    "#outfile.close()\n",
    "h = np.array(['Class'])\n",
    "print()\n",
    "P = n[:,1]\n",
    "s = np.append(h, P)\n",
    "print(s,'***')\n",
    "import pandas as pd\n",
    "df = pd.DataFrame(s)\n",
    "df.to_csv('submission.csv')\n",
    "print(n.shape,s.shape)"
   ]
  },
  {
   "cell_type": "code",
   "execution_count": null,
   "metadata": {},
   "outputs": [],
   "source": []
  },
  {
   "cell_type": "code",
   "execution_count": null,
   "metadata": {},
   "outputs": [],
   "source": []
  }
 ],
 "metadata": {
  "kernelspec": {
   "display_name": "Python 3",
   "language": "python",
   "name": "python3"
  },
  "language_info": {
   "codemirror_mode": {
    "name": "ipython",
    "version": 3
   },
   "file_extension": ".py",
   "mimetype": "text/x-python",
   "name": "python",
   "nbconvert_exporter": "python",
   "pygments_lexer": "ipython3",
   "version": "3.8.5"
  }
 },
 "nbformat": 4,
 "nbformat_minor": 4
}
